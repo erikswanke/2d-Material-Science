{
 "cells": [
  {
   "cell_type": "code",
   "execution_count": null,
   "metadata": {},
   "outputs": [],
   "source": [
    "import itertools\n",
    "\n",
    "site_map={'A':['Sc', 'Ti', 'V', 'Cr', 'Mn', 'Fe', 'Co', 'Ni', 'Cu', 'Zn',\n",
    "                 'Y', 'Zr', 'Nb', 'Mo', 'Tc', 'Ru', 'Rh', 'Pd', 'Ag', 'Cd',\n",
    "                 'Lu', 'Hf', 'Ta', 'W', 'Re', 'Os', 'Ir', 'Pt', 'Au', 'Hg',\n",
    "                 'La','Ce','Pr','Nd','Pm','Sm','Eu','Gd','Tb','Dy','Ho','Er','Tm','Yb'],\n",
    "           'B':['Ge','Si','P'],\n",
    "           'X':['S','Se','Te']}\n",
    "\n",
    "\n",
    "mats=[]\n",
    "\n",
    "\n",
    "for els in mat_els:\n",
    "    As=[el for el in els if el in site_map[\"A\"]]\n",
    "    Bs=[el for el in els if el in site_map[\"B\"]]\n",
    "    Xs=[el for el in els if el in site_map[\"X\"]]\n",
    "    if len(As)==1:\n",
    "        As.append(As[0])\n",
    "    if len(Bs)==1:\n",
    "        Bs.append(Bs[0])\n",
    "    full_els=As+Bs+Xs\n",
    "    mats.append(full_els)"
   ]
  }
 ],
 "metadata": {
  "kernelspec": {
   "display_name": "Python 3",
   "language": "python",
   "name": "python3"
  },
  "language_info": {
   "codemirror_mode": {
    "name": "ipython",
    "version": 3
   },
   "file_extension": ".py",
   "mimetype": "text/x-python",
   "name": "python",
   "nbconvert_exporter": "python",
   "pygments_lexer": "ipython3",
   "version": "3.8.3"
  }
 },
 "nbformat": 4,
 "nbformat_minor": 4
}
