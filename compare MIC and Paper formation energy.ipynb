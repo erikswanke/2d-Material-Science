{
 "cells": [
  {
   "cell_type": "code",
   "execution_count": 15,
   "metadata": {},
   "outputs": [],
   "source": [
    "\"\"\"\n",
    "All necessary imports\n",
    "NOTE: paper descriptors are the top 12 for magnetic moment, not formation energy.\n",
    "\"\"\"\n",
    "\n",
    "import math\n",
    "import csv\n",
    "\n",
    "import numpy as np\n",
    "import pandas as pd\n",
    "import scipy.stats as stats\n",
    "import scipy.spatial.distance as distance\n",
    "import scipy\n",
    "\n",
    "from pandas import read_csv\n",
    "from sklearn import metrics\n",
    "from sklearn.ensemble import RandomForestRegressor\n",
    "from sklearn.model_selection import train_test_split\n",
    "\n",
    "from minepy import MINE\n",
    "\n",
    "import matplotlib.pyplot as plt\n",
    "import seaborn"
   ]
  },
  {
   "cell_type": "code",
   "execution_count": 2,
   "metadata": {},
   "outputs": [],
   "source": [
    "df = pd.read_csv('magneticmoment_Ef_data.csv', header=0)\n",
    "mine = MINE(alpha=0.6, c=15) #a=.6 recommended by paper, c of more than 15 has no change in result"
   ]
  },
  {
   "cell_type": "code",
   "execution_count": 3,
   "metadata": {},
   "outputs": [],
   "source": [
    "tmp = []\n",
    "for j in range(len(df.columns)):\n",
    "    if( not (isinstance(df.iloc[0][j], np.float64) or isinstance(df.iloc[0][j], np.int64)) ):\n",
    "        tmp.append(df.columns[j])\n",
    "\n",
    "#print(tmp)\n",
    "df = df.drop(columns=tmp)\n",
    "df = df.drop(columns=['magnetic_moment'])\n",
    "\n",
    "#df.head(2)"
   ]
  },
  {
   "cell_type": "code",
   "execution_count": 4,
   "metadata": {},
   "outputs": [
    {
     "name": "stderr",
     "output_type": "stream",
     "text": [
      "<ipython-input-4-f6060eb4c2b4>:6: DeprecationWarning: `np.float` is a deprecated alias for the builtin `float`. To silence this warning, use `float` by itself. Doing this will not modify any behavior and is safe. If you specifically wanted the numpy scalar type, use `np.float64` here.\n",
      "Deprecated in NumPy 1.20; for more details and guidance: https://numpy.org/devdocs/release/1.20.0-notes.html#deprecations\n",
      "  mine.compute_score(df.iloc[:,j],df[y_axis])\n"
     ]
    },
    {
     "name": "stdout",
     "output_type": "stream",
     "text": [
      "['eaffinity_std', 'dipole_sum_dif', 'Born', 'dipole_avg', 'cs_OX', 'e_affinity_max_dif', 'nvalence_avg', 'dipole_max_dif', 'nvalence_std', 'cmpd_skew_d', 'num_d', 'cmpd_sigma_d']\n"
     ]
    }
   ],
   "source": [
    "y_axis = \"formation_energy\"\n",
    "MIC_corrs = []\n",
    "\n",
    "for j in range(len(df.columns)):\n",
    "    \n",
    "    mine.compute_score(df.iloc[:,j],df[y_axis]) \n",
    "    tmp_corr = mine.mic() \n",
    "\n",
    "    colname = df.columns[j]\n",
    "\n",
    "    MIC_corrs.append((colname, tmp_corr))\n",
    "\n",
    "corrdf = pd.DataFrame.from_records(MIC_corrs[1:], columns=['feature', 'correlation'])\n",
    "corrdf = corrdf.dropna()\n",
    "corrdf = corrdf.sort_values(by=['correlation'])\n",
    "corrdf = corrdf.iloc[-13:-1]\n",
    "\n",
    "mic_descriptors = list(corrdf[\"feature\"])\n",
    "print(mic_descriptors)"
   ]
  },
  {
   "cell_type": "code",
   "execution_count": 5,
   "metadata": {},
   "outputs": [],
   "source": [
    "#remove what we want to predict\n",
    "\n",
    "labels = np.array(df['formation_energy'])\n",
    "\n",
    "df = df.drop(columns=['formation_energy'])\n",
    "\n",
    "#make dataframes for mic top 12, paper top 12, total df\n",
    "mic_descriptors = mic_descriptors\n",
    "paper_descriptors = [\"Nup_mean\", \"cs_bob\",  \"nvalence_max_dif\", \"dipole_avg\", \n",
    "                     \"Nup_var\", \"nvalence_std\", \"nvalence_avg\", \"dipole_std_dif\",  \n",
    "                     \"vdwradius_avg\", \"covalentrad_std_dif\", \"dipole_max_dif\", \"hardness_mean\" ]\n",
    "df_all = df\n",
    "df_mic = df[mic_descriptors]\n",
    "df_paper = df[paper_descriptors]\n",
    "#----------------------------------------------------------------------\n",
    "#get list of feature names for all, MIC top 12, paper top 12\n",
    "#----------------------------------------------------------------------\n",
    "feature_list_all = list(df_all.columns)\n",
    "\n",
    "feature_list_mic = list(df_mic.columns)\n",
    "\n",
    "feature_list_paper = list(df_paper.columns)\n",
    "\n",
    "#get numpy array of all, mic, and paper features\n",
    "features_all   = np.array(df_all)\n",
    "features_mic   = np.array(df_mic)\n",
    "features_paper = np.array(df_paper)"
   ]
  },
  {
   "cell_type": "code",
   "execution_count": 6,
   "metadata": {},
   "outputs": [],
   "source": [
    "# Using Skicit-learn to split data into training and testing sets\n",
    "\n",
    "# Split the data into training and testing sets\n",
    "\n",
    "def make_train_test_split(features, labels):\n",
    "    train_features, test_features, train_labels, test_labels = train_test_split(features, labels, test_size = 0.25,\n",
    "                                                                           random_state = 42)\n",
    "    return train_features, test_features, train_labels, test_labels \n"
   ]
  },
  {
   "cell_type": "code",
   "execution_count": 7,
   "metadata": {},
   "outputs": [],
   "source": [
    "\n",
    "def get_r_sq(predictions, test_labels):\n",
    "    r_sq = metrics.r2_score(predictions, test_labels)\n",
    "    return r_sq\n"
   ]
  },
  {
   "cell_type": "code",
   "execution_count": 8,
   "metadata": {
    "scrolled": true
   },
   "outputs": [],
   "source": [
    "def print_importances(rf, feature_list):\n",
    "    # Get numerical feature importances\n",
    "    importances = list(rf.feature_importances_)\n",
    "\n",
    "    # List of tuples with variable and importance\n",
    "    feature_importances = [(feature, round(importance, 2)) for feature, importance in zip(feature_list, importances)]\n",
    "\n",
    "    # Sort the feature importances by most important first\n",
    "    feature_importances = sorted(feature_importances, key = lambda x: x[1], reverse = True)\n",
    "\n",
    "    # Print out the feature and importances \n",
    "    print(\"Most important variables:\")\n",
    "    [print('Variable: {:20} Importance: {}'.format(*pair)) for pair in feature_importances[:40]];"
   ]
  },
  {
   "cell_type": "code",
   "execution_count": 12,
   "metadata": {},
   "outputs": [],
   "source": [
    "\n",
    "def make_graph(test_labels, predictions, r_sq, mode):\n",
    "    x = test_labels\n",
    "    y=predictions\n",
    "    slope, intercept, r_value, p_value, std_err = scipy.stats.linregress(predictions, test_labels)\n",
    "\n",
    "    y2=(test_labels * slope + intercept)\n",
    "    plt.scatter(x,y, color='c', label=\"data\")\n",
    "    plt.plot(x,y2, color='b', label=\"fitted line\")\n",
    "\n",
    "    plt.xlabel(\"True magnetic moment\")\n",
    "    plt.ylabel(\"Predicted\")\n",
    "\n",
    "\n",
    "    lab = \"r^2=%.3f \" % (r_sq)\n",
    "\n",
    "    plt.plot([], [], ' ', label=lab )\n",
    "\n",
    "    plt.legend()\n",
    "    plt.title(\"Formation energy predictions using {} descriptors\".format(mode))\n",
    "    plt.show()"
   ]
  },
  {
   "cell_type": "code",
   "execution_count": 13,
   "metadata": {},
   "outputs": [],
   "source": [
    "def run_and_graph(labels, features, feature_list, mode):\n",
    "    train_features, test_features, train_labels, test_labels = make_train_test_split(features, labels)\n",
    "    \n",
    "    rf = RandomForestRegressor(n_estimators= 1000, random_state=42)\n",
    "    # Train the model on training data\n",
    "    rf.fit(train_features, train_labels);\n",
    "    predictions = rf.predict(test_features)\n",
    "    r_sq = get_r_sq(predictions, test_labels)\n",
    "    print(\"r squared value for\", mode + \": \", round(r_sq, 2))\n",
    "    #print_importances(rf, feature_list)\n",
    "    make_graph(test_labels,predictions, r_sq, mode)"
   ]
  },
  {
   "cell_type": "code",
   "execution_count": 14,
   "metadata": {
    "scrolled": true
   },
   "outputs": [
    {
     "name": "stdout",
     "output_type": "stream",
     "text": [
      "r squared value for All:  0.88\n"
     ]
    },
    {
     "data": {
      "image/png": "[encoded data removed]",
      "text/plain": [
       "<Figure size 432x288 with 1 Axes>"
      ]
     },
     "metadata": {
      "needs_background": "light"
     },
     "output_type": "display_data"
    },
    {
     "name": "stdout",
     "output_type": "stream",
     "text": [
      "r squared value for MIC:  0.9\n"
     ]
    },
    {
     "data": {
      "image/png": "[encoded data removed]",
      "text/plain": [
       "<Figure size 432x288 with 1 Axes>"
      ]
     },
     "metadata": {
      "needs_background": "light"
     },
     "output_type": "display_data"
    },
    {
     "name": "stdout",
     "output_type": "stream",
     "text": [
      "r squared value for Paper:  0.86\n"
     ]
    },
    {
     "data": {
      "image/png": "[encoded data removed]",
      "text/plain": [
       "<Figure size 432x288 with 1 Axes>"
      ]
     },
     "metadata": {
      "needs_background": "light"
     },
     "output_type": "display_data"
    }
   ],
   "source": [
    "run_and_graph(labels, features_all, feature_list_all, \"All\")\n",
    "run_and_graph(labels, features_mic, feature_list_mic, \"MIC\")\n",
    "run_and_graph(labels, features_paper, feature_list_paper, \"Paper\")"
   ]
  },
  {
   "cell_type": "code",
   "execution_count": null,
   "metadata": {},
   "outputs": [],
   "source": []
  }
 ],
 "metadata": {
  "kernelspec": {
   "display_name": "Python 3",
   "language": "python",
   "name": "python3"
  },
  "language_info": {
   "codemirror_mode": {
    "name": "ipython",
    "version": 3
   },
   "file_extension": ".py",
   "mimetype": "text/x-python",
   "name": "python",
   "nbconvert_exporter": "python",
   "pygments_lexer": "ipython3",
   "version": "3.8.3"
  }
 },
 "nbformat": 4,
 "nbformat_minor": 4
}
