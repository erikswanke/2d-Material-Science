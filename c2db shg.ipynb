{
 "cells": [
  {
   "cell_type": "code",
   "execution_count": 41,
   "metadata": {},
   "outputs": [
    {
     "name": "stdout",
     "output_type": "stream",
     "text": [
      "CSV file 'data for analysis - C2DB Scrap.csv' has been modified. The result is saved in 'output.csv'.\n"
     ]
    }
   ],
   "source": [
    "import csv\n",
    "\n",
    "def modify_csv(input_file_path, output_file_path):\n",
    "    modified_rows = []\n",
    "    \n",
    "    with open(input_file_path, 'r') as input_file:\n",
    "        reader = csv.reader(input_file)\n",
    "        \n",
    "        for row in reader:\n",
    "            modified_row = [cell.replace('(', '').replace(')', '').replace(',', ', ') if '(' in cell else cell for cell in row]\n",
    "            modified_rows.append(modified_row)\n",
    "    \n",
    "    with open(output_file_path, 'w', newline='') as output_file:\n",
    "        writer = csv.writer(output_file)\n",
    "        writer.writerows(modified_rows)\n",
    "\n",
    "# Usage example\n",
    "input_file_path = 'data for analysis - C2DB Scrap.csv'\n",
    "output_file_path = 'output.csv'\n",
    "modify_csv(input_file_path, output_file_path)\n",
    "print(f\"CSV file '{input_file_path}' has been modified. The result is saved in '{output_file_path}'.\")\n"
   ]
  },
  {
   "cell_type": "code",
   "execution_count": 44,
   "metadata": {},
   "outputs": [
    {
     "name": "stdout",
     "output_type": "stream",
     "text": [
      "Quotation marks removed. Output saved to output2.csv.\n"
     ]
    }
   ],
   "source": [
    "import csv\n",
    "\n",
    "def remove_quotation_marks(csv_file, output_file):\n",
    "    with open(csv_file, 'r') as file:\n",
    "        reader = csv.reader(file)\n",
    "        rows = [row for row in reader]\n",
    "\n",
    "    with open(output_file, 'w', newline='') as file:\n",
    "        writer = csv.writer(file, delimiter=',', quotechar='', quoting=csv.QUOTE_NONE, escapechar='\\\\')\n",
    "        writer.writerows(rows)\n",
    "\n",
    "    print(f\"Quotation marks removed. Output saved to {output_file}.\")\n",
    "\n",
    "# Example usage:\n",
    "csv_file = 'output.csv'  # Replace with your CSV file path\n",
    "output_file = 'output2.csv'  # Replace with the desired output file path\n",
    "\n",
    "remove_quotation_marks(csv_file, output_file)"
   ]
  },
  {
   "cell_type": "code",
   "execution_count": 85,
   "metadata": {},
   "outputs": [],
   "source": [
    "import pandas as pd\n",
    "\n",
    "# Read the first CSV file\n",
    "df1 = pd.read_csv('all_data.csv')\n",
    "\n",
    "# Read the second CSV file\n",
    "df2 = pd.read_csv('parsed shgs.csv')\n",
    "\n",
    "\n",
    "df_out = pd.merge(df1, df2, how='right', left_on='formula', right_on='formula')\n",
    "df_out.to_csv('merged.csv', index=False)"
   ]
  },
  {
   "cell_type": "code",
   "execution_count": 76,
   "metadata": {},
   "outputs": [
    {
     "name": "stdout",
     "output_type": "stream",
     "text": [
      "   Code  MLC Code    asdf\n",
      "0     1       8.0      -1\n",
      "1     2      66.0      22\n",
      "2     3       NaN     333\n",
      "3     4      66.0    4444\n",
      "4     4      66.0   55555\n",
      "5     8      62.0  666666\n"
     ]
    }
   ],
   "source": [
    "import pandas as pd\n",
    "\n",
    "# Your sample data\n",
    "data_1 = {'Code': [1,2,8,4], 'MLC Code': [8,66,62,66]}\n",
    "data_2 = {'Code': [1,2,3,4,4,8], 'asdf': [-1,22,333,4444,55555,666666]}\n",
    "\n",
    "# Create Dataframes from your data\n",
    "df1 = pd.DataFrame(data_1)\n",
    "df2 = pd.DataFrame(data_2)\n",
    "\n",
    "df_out = pd.merge(df1, df2, how='right', left_on='Code', right_on='Code')\n",
    "print(df_out)"
   ]
  }
 ],
 "metadata": {
  "kernelspec": {
   "display_name": "Python 3",
   "language": "python",
   "name": "python3"
  },
  "orig_nbformat": 4
 },
 "nbformat": 4,
 "nbformat_minor": 2
}
