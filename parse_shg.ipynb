{
 "cells": [
  {
   "cell_type": "code",
   "execution_count": null,
   "metadata": {},
   "outputs": [],
   "source": [
    "# creates: fig18.png\n",
    "import matplotlib.pyplot as plt\n",
    "from asr.c2db.infraredpolarizability import \\\n",
    "    Result as InfraredPolarizabilityResult\n",
    "from asr.c2db.polarizability import Result as PolarizabilityResult\n",
    "from ase.db import connect\n",
    "from scipy.interpolate import interp1d\n",
    "\n",
    "db = connect('c2db-2022-11-30-big.db')\n",
    "row = db.get(formula='BN')\n",
    "\n",
    "dct = row.data['results-asr.infraredpolarizability.json']\n",
    "print(dct.keys())\n",
    "print(dct)\n",
    "\n",
    "dct2=dct['kwargs']\n",
    "\n",
    "irpol = InfraredPolarizabilityResult(**dct2)\n",
    "print(irpol)\n",
    "freq = irpol.omega_w\n",
    "iralpha = irpol.alpha_wvv[:, 0, 0]  # xx-component\n",
    "\n",
    "# dct = row.data['results-asr.polarizability.json']\n",
    "# elpol = PolarizabilityResult(**dct['kwargs'])\n",
    "# x = elpol.frequencies\n",
    "# y = elpol.alphax_w\n",
    "# # Interpolate to IR frequency grid:\n",
    "# elalpha = (interp1d(x, y.real)(freq) +\n",
    "#            interp1d(x, y.imag)(freq) * 1j)\n",
    "\n",
    "# alpha = iralpha + elalpha\n",
    "\n",
    "# ax = plt.subplot()\n",
    "# ax.plot(freq * 1000, alpha.real, label='real')\n",
    "# ax.plot(freq * 1000, alpha.imag, label='imag')\n",
    "# ax.set_xlabel('Energy [meV]')\n",
    "# ax.set_ylabel(r'Polarizability [$\\mathrm{\\AA}$]')\n",
    "# ax.set_xlim(0, 500)\n",
    "# ax.legend()\n",
    "# plt.tight_layout()\n",
    "# plt.savefig('fig18.png')"
   ]
  },
  {
   "cell_type": "code",
   "execution_count": 7,
   "metadata": {},
   "outputs": [
    {
     "name": "stdout",
     "output_type": "stream",
     "text": [
      "dict_keys(['chi', 'freqs', 'symm'])\n",
      "dict_keys(['yyy', 'xxz', 'zxx', 'zzz'])\n"
     ]
    }
   ],
   "source": [
    "import matplotlib.pyplot as plt\n",
    "from asr.c2db.shg import Result as SHGResult\n",
    "from asr.c2db.shg import plot_shg\n",
    "\n",
    "from ase.db import connect\n",
    "from scipy.interpolate import interp1d\n",
    "\n",
    "\n",
    "\n",
    "\n",
    "\n",
    "db = connect('c2db-2022-11-30-big.db')\n",
    "row = db.get(formula='PbO')\n",
    "dct = row.data['results-asr.shg.json']\n",
    "\n",
    "print(dct.keys())\n",
    "print(dct['chi'].keys())\n",
    "\n",
    "#print(row)\n",
    "\n",
    "#print(dct.keys())\n",
    "\n",
    "# shgpol = SHGResult(dct)\n",
    "\n",
    "# #plot_shg(row)\n",
    "\n",
    "# #shgpol.plot_shg('fig18.png')\n",
    "# freq = shgpol.freqs\n",
    "\n",
    "# nm2_per_v = shgpol.chi['yyy']\n",
    "\n",
    "# #print(nm2_per_v)\n",
    "\n",
    "# #print(shgpol)\n",
    "\n",
    "\n",
    "# ax = plt.subplot()\n",
    "# ax.plot(freq, nm2_per_v.real, label='real')\n",
    "# ax.plot(freq, nm2_per_v.imag, label='imag')\n",
    "# ax.plot(freq, abs(nm2_per_v), label='abs')\n",
    "# ax.set_xlabel('pump photon energy')\n",
    "# ax.set_ylabel(r'nm2/v [$\\mathrm{\\AA}$]')\n",
    "# #ax.set_xlim(0, 500)\n",
    "# ax.legend()\n",
    "# plt.tight_layout()\n",
    "# plt.savefig('fig18.png')\n"
   ]
  },
  {
   "cell_type": "code",
   "execution_count": 15,
   "metadata": {},
   "outputs": [
    {
     "name": "stdout",
     "output_type": "stream",
     "text": [
      "{'zero': 'xxx=xxz=xyy=xyz=xzx=xzy=xzz=yxy=yxz=yyx=yyz=yzx=yzy=yzz=zxx=zxy=zxz=zyx=zyy=zyz=zzx=zzy=zzz', 'yyy': 'yyy=-xxy=-yxx=-xyx'}\n",
      "{'zero': 'xxx=xyy=xyz=xzy=xzz=yxy=yxz=yyx=yzx=yzz=zxy=zxz=zyx=zyz=zzx=zzy', 'yyy': 'yyy=-xxy=-yxx=-xyx', 'xxz': 'xxz=xzx=yyz=yzy', 'zxx': 'zxx=zyy', 'zzz': 'zzz'}\n",
      "{'zero': 'xxx=xyy=xyz=xzy=xzz=yxy=yxz=yyx=yzx=yzz=zxy=zxz=zyx=zyz=zzx=zzy', 'yyy': 'yyy=-xxy=-yxx=-xyx', 'xxz': 'xxz=xzx=yyz=yzy', 'zxx': 'zxx=zyy', 'zzz': 'zzz'}\n",
      "{'zero': 'xxx=xxz=xyy=xyz=xzx=xzy=xzz=yxy=yxz=yyx=yyz=yzx=yzy=yzz=zxx=zxy=zxz=zyx=zyy=zyz=zzx=zzy=zzz', 'yyy': 'yyy=-xxy=-yxx=-xyx'}\n",
      "{'zero': 'yyy=xxz=xxy=xyz=xzx=xzy=yxx=yxz=xyx=yyz=yzx=yzy=yzz=zxx=zxy=zyx=zyy=zyz=zzy=zzz', 'xxx': 'xxx', 'xyy': 'xyy', 'xzz': 'xzz', 'yxy': 'yxy=yyx', 'zxz': 'zxz=zzx'}\n"
     ]
    }
   ],
   "source": [
    "import numpy as np\n",
    "def extract_peak_info(x_data, y_data, x_range):\n",
    "    range_mask = (x_data >= x_range[0]) & (x_data <= x_range[1])\n",
    "    x_range_data = x_data[range_mask]\n",
    "    y_range_data = y_data[range_mask]\n",
    "    \n",
    "    peak_index = np.argmax(y_range_data)  # Find index of the peak within the range\n",
    "    peak_position = x_range_data[peak_index]  # Get corresponding x-coordinate\n",
    "    peak_value = y_range_data[peak_index]  # Get corresponding y-coordinate\n",
    "    return peak_position, peak_value\n",
    "\n",
    "count = 0\n",
    "\n",
    "for row in db.select(has_asr_shg=True):\n",
    "    count +=1\n",
    "    if count > 5:\n",
    "        break\n",
    "    dct = row.data['results-asr.shg.json']\n",
    "\n",
    "    freq = dct['freqs']\n",
    "    \n",
    "\n",
    "    if(len(dct['chi'].keys()) >=1):\n",
    "        \n",
    "        for symmm in dct['chi'].keys():\n",
    "            print(symmm)\n",
    "            nm2_per_v = dct['chi'][symmm]\n",
    "            ranges = [(0.4, 0.9), (0.9, 1.6), (1.6, 2.1)]\n",
    "            print(row.formula)\n",
    "            for x_range in ranges:\n",
    "                peak_position, peak_value = extract_peak_info(freq, abs(nm2_per_v), x_range)\n",
    "                print(f\"Peak Position in range {x_range}: {peak_position}\")\n",
    "                print(f\"Peak Value in range {x_range}: {peak_value}\")"
   ]
  },
  {
   "cell_type": "code",
   "execution_count": null,
   "metadata": {},
   "outputs": [],
   "source": []
  }
 ],
 "metadata": {
  "kernelspec": {
   "display_name": "Python 3 (ipykernel)",
   "language": "python",
   "name": "python3"
  },
  "language_info": {
   "codemirror_mode": {
    "name": "ipython",
    "version": 3
   },
   "file_extension": ".py",
   "mimetype": "text/x-python",
   "name": "python",
   "nbconvert_exporter": "python",
   "pygments_lexer": "ipython3",
   "version": "3.8.1"
  },
  "orig_nbformat": 4
 },
 "nbformat": 4,
 "nbformat_minor": 2
}
