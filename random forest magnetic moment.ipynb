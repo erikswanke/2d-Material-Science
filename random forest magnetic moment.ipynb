{
 "cells": [
  {
   "cell_type": "code",
   "execution_count": 1,
   "metadata": {},
   "outputs": [],
   "source": [
    "import pandas as pd\n",
    "import numpy as np"
   ]
  },
  {
   "cell_type": "code",
   "execution_count": 2,
   "metadata": {},
   "outputs": [
    {
     "data": {
      "text/html": [
       "<div>\n",
       "<style scoped>\n",
       "    .dataframe tbody tr th:only-of-type {\n",
       "        vertical-align: middle;\n",
       "    }\n",
       "\n",
       "    .dataframe tbody tr th {\n",
       "        vertical-align: top;\n",
       "    }\n",
       "\n",
       "    .dataframe thead th {\n",
       "        text-align: right;\n",
       "    }\n",
       "</style>\n",
       "<table border=\"1\" class=\"dataframe\">\n",
       "  <thead>\n",
       "    <tr style=\"text-align: right;\">\n",
       "      <th></th>\n",
       "      <th>Unnamed: 0</th>\n",
       "      <th>formation_energy</th>\n",
       "      <th>elem_frac</th>\n",
       "      <th>elem_list</th>\n",
       "      <th>energy</th>\n",
       "      <th>formula</th>\n",
       "      <th>magnetic_moment</th>\n",
       "      <th>spin_index</th>\n",
       "      <th>num_p</th>\n",
       "      <th>num_d</th>\n",
       "      <th>...</th>\n",
       "      <th>Born</th>\n",
       "      <th>hardness_mean</th>\n",
       "      <th>hardness_var</th>\n",
       "      <th>Nup_mean</th>\n",
       "      <th>Nup_var</th>\n",
       "      <th>cs_bob</th>\n",
       "      <th>cs_PE</th>\n",
       "      <th>cs_IR</th>\n",
       "      <th>cs_AR</th>\n",
       "      <th>cs_OX</th>\n",
       "    </tr>\n",
       "  </thead>\n",
       "  <tbody>\n",
       "    <tr>\n",
       "      <th>0</th>\n",
       "      <td>0</td>\n",
       "      <td>-1.152920</td>\n",
       "      <td>[{Element Cr: 0.1}, {Element Co: 0.1}, {Elemen...</td>\n",
       "      <td>[Element Cr, Element Co, Element Ge, Element T...</td>\n",
       "      <td>-46.782036</td>\n",
       "      <td>Cr1Co1Ge1Te6P1</td>\n",
       "      <td>2.816</td>\n",
       "      <td>1</td>\n",
       "      <td>4</td>\n",
       "      <td>9</td>\n",
       "      <td>...</td>\n",
       "      <td>824.839369</td>\n",
       "      <td>3.676485</td>\n",
       "      <td>0.392730</td>\n",
       "      <td>3.20</td>\n",
       "      <td>2.1600</td>\n",
       "      <td>42880.10573</td>\n",
       "      <td>966.64</td>\n",
       "      <td>13.905000</td>\n",
       "      <td>11.50</td>\n",
       "      <td>4917162.56</td>\n",
       "    </tr>\n",
       "    <tr>\n",
       "      <th>1</th>\n",
       "      <td>1</td>\n",
       "      <td>-1.325311</td>\n",
       "      <td>[{Element Cr: 0.1}, {Element Co: 0.1}, {Elemen...</td>\n",
       "      <td>[Element Cr, Element Co, Element Ge, Element Te]</td>\n",
       "      <td>-46.171992</td>\n",
       "      <td>Cr1Co1Ge2Te6</td>\n",
       "      <td>3.142</td>\n",
       "      <td>1</td>\n",
       "      <td>4</td>\n",
       "      <td>9</td>\n",
       "      <td>...</td>\n",
       "      <td>824.567397</td>\n",
       "      <td>3.378096</td>\n",
       "      <td>0.045734</td>\n",
       "      <td>3.25</td>\n",
       "      <td>2.6875</td>\n",
       "      <td>44357.76082</td>\n",
       "      <td>984.88</td>\n",
       "      <td>12.438333</td>\n",
       "      <td>11.35</td>\n",
       "      <td>5087200.04</td>\n",
       "    </tr>\n",
       "  </tbody>\n",
       "</table>\n",
       "<p>2 rows × 83 columns</p>\n",
       "</div>"
      ],
      "text/plain": [
       "   Unnamed: 0  formation_energy  \\\n",
       "0           0         -1.152920   \n",
       "1           1         -1.325311   \n",
       "\n",
       "                                           elem_frac  \\\n",
       "0  [{Element Cr: 0.1}, {Element Co: 0.1}, {Elemen...   \n",
       "1  [{Element Cr: 0.1}, {Element Co: 0.1}, {Elemen...   \n",
       "\n",
       "                                           elem_list     energy  \\\n",
       "0  [Element Cr, Element Co, Element Ge, Element T... -46.782036   \n",
       "1   [Element Cr, Element Co, Element Ge, Element Te] -46.171992   \n",
       "\n",
       "          formula  magnetic_moment  spin_index  num_p  num_d  ...        Born  \\\n",
       "0  Cr1Co1Ge1Te6P1            2.816           1      4      9  ...  824.839369   \n",
       "1    Cr1Co1Ge2Te6            3.142           1      4      9  ...  824.567397   \n",
       "\n",
       "  hardness_mean hardness_var Nup_mean Nup_var       cs_bob   cs_PE      cs_IR  \\\n",
       "0      3.676485     0.392730     3.20  2.1600  42880.10573  966.64  13.905000   \n",
       "1      3.378096     0.045734     3.25  2.6875  44357.76082  984.88  12.438333   \n",
       "\n",
       "   cs_AR       cs_OX  \n",
       "0  11.50  4917162.56  \n",
       "1  11.35  5087200.04  \n",
       "\n",
       "[2 rows x 83 columns]"
      ]
     },
     "execution_count": 2,
     "metadata": {},
     "output_type": "execute_result"
    }
   ],
   "source": [
    "df = pd.read_csv('magneticmoment_Ef_data.csv', header=0)\n",
    "df.head(2)"
   ]
  },
  {
   "cell_type": "code",
   "execution_count": 3,
   "metadata": {},
   "outputs": [
    {
     "name": "stdout",
     "output_type": "stream",
     "text": [
      "['elem_frac', 'elem_list', 'formula', 'atomic_rad', 'atomic_vol', 'covalent_rad', 'dipole', 'eaffinity', 'num_electrons', 'lastsubshell_avg']\n"
     ]
    },
    {
     "data": {
      "text/html": [
       "<div>\n",
       "<style scoped>\n",
       "    .dataframe tbody tr th:only-of-type {\n",
       "        vertical-align: middle;\n",
       "    }\n",
       "\n",
       "    .dataframe tbody tr th {\n",
       "        vertical-align: top;\n",
       "    }\n",
       "\n",
       "    .dataframe thead th {\n",
       "        text-align: right;\n",
       "    }\n",
       "</style>\n",
       "<table border=\"1\" class=\"dataframe\">\n",
       "  <thead>\n",
       "    <tr style=\"text-align: right;\">\n",
       "      <th></th>\n",
       "      <th>Unnamed: 0</th>\n",
       "      <th>formation_energy</th>\n",
       "      <th>energy</th>\n",
       "      <th>magnetic_moment</th>\n",
       "      <th>spin_index</th>\n",
       "      <th>num_p</th>\n",
       "      <th>num_d</th>\n",
       "      <th>num_f</th>\n",
       "      <th>atomic_rad_sum_dif</th>\n",
       "      <th>atomic_rad_std_dif</th>\n",
       "      <th>...</th>\n",
       "      <th>Born</th>\n",
       "      <th>hardness_mean</th>\n",
       "      <th>hardness_var</th>\n",
       "      <th>Nup_mean</th>\n",
       "      <th>Nup_var</th>\n",
       "      <th>cs_bob</th>\n",
       "      <th>cs_PE</th>\n",
       "      <th>cs_IR</th>\n",
       "      <th>cs_AR</th>\n",
       "      <th>cs_OX</th>\n",
       "    </tr>\n",
       "  </thead>\n",
       "  <tbody>\n",
       "    <tr>\n",
       "      <th>0</th>\n",
       "      <td>0</td>\n",
       "      <td>-1.152920</td>\n",
       "      <td>-46.782036</td>\n",
       "      <td>2.816</td>\n",
       "      <td>1</td>\n",
       "      <td>4</td>\n",
       "      <td>9</td>\n",
       "      <td>0</td>\n",
       "      <td>158.0</td>\n",
       "      <td>0.997877</td>\n",
       "      <td>...</td>\n",
       "      <td>824.839369</td>\n",
       "      <td>3.676485</td>\n",
       "      <td>0.392730</td>\n",
       "      <td>3.20</td>\n",
       "      <td>2.1600</td>\n",
       "      <td>42880.10573</td>\n",
       "      <td>966.64</td>\n",
       "      <td>13.905000</td>\n",
       "      <td>11.50</td>\n",
       "      <td>4917162.56</td>\n",
       "    </tr>\n",
       "    <tr>\n",
       "      <th>1</th>\n",
       "      <td>1</td>\n",
       "      <td>-1.325311</td>\n",
       "      <td>-46.171992</td>\n",
       "      <td>3.142</td>\n",
       "      <td>1</td>\n",
       "      <td>4</td>\n",
       "      <td>9</td>\n",
       "      <td>0</td>\n",
       "      <td>168.0</td>\n",
       "      <td>0.831633</td>\n",
       "      <td>...</td>\n",
       "      <td>824.567397</td>\n",
       "      <td>3.378096</td>\n",
       "      <td>0.045734</td>\n",
       "      <td>3.25</td>\n",
       "      <td>2.6875</td>\n",
       "      <td>44357.76082</td>\n",
       "      <td>984.88</td>\n",
       "      <td>12.438333</td>\n",
       "      <td>11.35</td>\n",
       "      <td>5087200.04</td>\n",
       "    </tr>\n",
       "  </tbody>\n",
       "</table>\n",
       "<p>2 rows × 73 columns</p>\n",
       "</div>"
      ],
      "text/plain": [
       "   Unnamed: 0  formation_energy     energy  magnetic_moment  spin_index  \\\n",
       "0           0         -1.152920 -46.782036            2.816           1   \n",
       "1           1         -1.325311 -46.171992            3.142           1   \n",
       "\n",
       "   num_p  num_d  num_f  atomic_rad_sum_dif  atomic_rad_std_dif  ...  \\\n",
       "0      4      9      0               158.0            0.997877  ...   \n",
       "1      4      9      0               168.0            0.831633  ...   \n",
       "\n",
       "         Born  hardness_mean  hardness_var  Nup_mean  Nup_var       cs_bob  \\\n",
       "0  824.839369       3.676485      0.392730      3.20   2.1600  42880.10573   \n",
       "1  824.567397       3.378096      0.045734      3.25   2.6875  44357.76082   \n",
       "\n",
       "    cs_PE      cs_IR  cs_AR       cs_OX  \n",
       "0  966.64  13.905000  11.50  4917162.56  \n",
       "1  984.88  12.438333  11.35  5087200.04  \n",
       "\n",
       "[2 rows x 73 columns]"
      ]
     },
     "execution_count": 3,
     "metadata": {},
     "output_type": "execute_result"
    }
   ],
   "source": [
    "tmp = []\n",
    "for j in range(len(df.columns)):\n",
    "    if( not (isinstance(df.iloc[0][j], np.float64) or isinstance(df.iloc[0][j], np.int64)) ):\n",
    "        tmp.append(df.columns[j])\n",
    "\n",
    "print(tmp)\n",
    "df = df.drop(columns=tmp)\n",
    "df.head(2)"
   ]
  },
  {
   "cell_type": "code",
   "execution_count": 4,
   "metadata": {},
   "outputs": [],
   "source": [
    "#remove what we want to predict\n",
    "\n",
    "labels = np.array(df['magnetic_moment'])\n",
    "\n",
    "df = df.drop(columns=['formation_energy', 'magnetic_moment'])\n",
    "\n",
    "#get list of feature names\n",
    "feature_list = list(df.columns)\n",
    "#get numpy array of features\n",
    "features =  np.array(df)\n"
   ]
  },
  {
   "cell_type": "code",
   "execution_count": 5,
   "metadata": {},
   "outputs": [],
   "source": [
    "# Using Skicit-learn to split data into training and testing sets\n",
    "from sklearn.model_selection import train_test_split\n",
    "\n",
    "# Split the data into training and testing sets\n",
    "train_features, test_features, train_labels, test_labels = train_test_split(features, labels, test_size = 0.25,\n",
    "                                                                           random_state = 42)"
   ]
  },
  {
   "cell_type": "code",
   "execution_count": 6,
   "metadata": {},
   "outputs": [
    {
     "name": "stdout",
     "output_type": "stream",
     "text": [
      "Training Features Shape: (169, 71)\n",
      "Training Labels Shape: (169,)\n",
      "Testing Features Shape: (57, 71)\n",
      "Testing Labels Shape: (57,)\n"
     ]
    }
   ],
   "source": [
    "print('Training Features Shape:', train_features.shape)\n",
    "print('Training Labels Shape:', train_labels.shape)\n",
    "print('Testing Features Shape:', test_features.shape)\n",
    "print('Testing Labels Shape:', test_labels.shape)"
   ]
  },
  {
   "cell_type": "code",
   "execution_count": 7,
   "metadata": {},
   "outputs": [],
   "source": [
    "# # The baseline predictions are the historical averages\n",
    "# baseline_preds = test_features[:, feature_list.index('energy')]\n",
    "\n",
    "# # Baseline errors, and display average baseline error\n",
    "# baseline_errors = abs(baseline_preds - test_labels)\n",
    "# print('Average baseline error: ', round(np.mean(baseline_errors), 2), '.')"
   ]
  },
  {
   "cell_type": "code",
   "execution_count": 8,
   "metadata": {},
   "outputs": [],
   "source": [
    "# Import the model we are using\n",
    "from sklearn.ensemble import RandomForestRegressor\n",
    "\n",
    "# Instantiate model \n",
    "rf = RandomForestRegressor(n_estimators= 1000, random_state=42)\n",
    "\n",
    "# Train the model on training data\n",
    "rf.fit(train_features, train_labels);"
   ]
  },
  {
   "cell_type": "code",
   "execution_count": 9,
   "metadata": {},
   "outputs": [],
   "source": [
    "rf_new = RandomForestRegressor(n_estimators = 100, criterion = 'mse', max_depth = None, \n",
    "                               min_samples_split = 2, min_samples_leaf = 1)"
   ]
  },
  {
   "cell_type": "code",
   "execution_count": 10,
   "metadata": {},
   "outputs": [
    {
     "name": "stdout",
     "output_type": "stream",
     "text": [
      "Mean Absolute Error: 0.32 (not sure the magnetism units here).\n"
     ]
    }
   ],
   "source": [
    "# Use the forest's predict method on the test data\n",
    "predictions = rf.predict(test_features)\n",
    "\n",
    "# Calculate the absolute errors\n",
    "errors = abs(predictions - test_labels)\n",
    "\n",
    "# Print out the mean absolute error (mae)\n",
    "print('Mean Absolute Error:', round(np.mean(errors), 2), '(not sure the magnetism units here).')"
   ]
  },
  {
   "cell_type": "code",
   "execution_count": 11,
   "metadata": {},
   "outputs": [
    {
     "name": "stdout",
     "output_type": "stream",
     "text": [
      "Accuracy: 90.63 %.\n"
     ]
    }
   ],
   "source": [
    "# Calculate mean absolute percentage error (MAPE)\n",
    "mape = 100 * (abs(errors) / abs(test_labels) )\n",
    "\n",
    "# Calculate and display accuracy\n",
    "accuracy = 100 - np.mean(mape)\n",
    "print('Accuracy:', round(accuracy, 2), '%.')"
   ]
  },
  {
   "cell_type": "code",
   "execution_count": 12,
   "metadata": {},
   "outputs": [],
   "source": [
    "import scipy\n",
    "slope, intercept, r_value, p_value, std_err = scipy.stats.linregress(predictions, test_labels)"
   ]
  },
  {
   "cell_type": "code",
   "execution_count": 19,
   "metadata": {},
   "outputs": [],
   "source": [
    "pred2 = rf.predict(train_features)\n",
    "_,_,rrr,_,_ = scipy.stats.linregress(pred2, train_labels)"
   ]
  },
  {
   "cell_type": "code",
   "execution_count": 22,
   "metadata": {},
   "outputs": [
    {
     "name": "stdout",
     "output_type": "stream",
     "text": [
      "training set r^2:  0.9491995137195929\n",
      "test set r^2:  0.8013224574606239\n"
     ]
    }
   ],
   "source": [
    "print(\"training set r^2: \", rrr**2)\n",
    "print(\"test set r^2: \", r_value**2)"
   ]
  },
  {
   "cell_type": "code",
   "execution_count": 18,
   "metadata": {},
   "outputs": [
    {
     "name": "stdout",
     "output_type": "stream",
     "text": [
      "Variable: Nup_mean             Importance: 0.15\n",
      "Variable: cmpd_sigma_d         Importance: 0.1\n",
      "Variable: cmpd_skew_d          Importance: 0.09\n",
      "Variable: nvalence_std_dif     Importance: 0.06\n",
      "Variable: nvalence_std         Importance: 0.05\n",
      "Variable: spin_index           Importance: 0.04\n",
      "Variable: numelectron_std_dif  Importance: 0.04\n",
      "Variable: nvalence_avg         Importance: 0.04\n",
      "Variable: dipole_std_dif       Importance: 0.03\n",
      "Variable: e_affinity_avg       Importance: 0.03\n",
      "Variable: atomic_vol_sum_dif   Importance: 0.02\n",
      "Variable: e_negativity_std_dif Importance: 0.02\n",
      "Variable: Unnamed: 0           Importance: 0.01\n",
      "Variable: energy               Importance: 0.01\n",
      "Variable: num_d                Importance: 0.01\n",
      "Variable: atomic_rad_sum_dif   Importance: 0.01\n",
      "Variable: atomic_rad_std_dif   Importance: 0.01\n",
      "Variable: atomic_rad_std       Importance: 0.01\n",
      "Variable: atomic_rad_avg       Importance: 0.01\n",
      "Variable: atomic_vol_avg       Importance: 0.01\n",
      "Variable: dipole_sum_dif       Importance: 0.01\n",
      "Variable: dipole_avg           Importance: 0.01\n",
      "Variable: eaffinity_std_dif    Importance: 0.01\n",
      "Variable: eaffinity_std        Importance: 0.01\n",
      "Variable: numelectron_avg      Importance: 0.01\n",
      "Variable: vdwradius_sum_dif    Importance: 0.01\n",
      "Variable: vdwradius_std_dif    Importance: 0.01\n",
      "Variable: vdwradius_std        Importance: 0.01\n",
      "Variable: e_negativity_sum_dif Importance: 0.01\n",
      "Variable: e_negativity_std     Importance: 0.01\n",
      "Variable: nvalence_sum_dif     Importance: 0.01\n",
      "Variable: std_ion              Importance: 0.01\n",
      "Variable: sum_ion              Importance: 0.01\n",
      "Variable: Born                 Importance: 0.01\n",
      "Variable: hardness_mean        Importance: 0.01\n",
      "Variable: hardness_var         Importance: 0.01\n",
      "Variable: Nup_var              Importance: 0.01\n",
      "Variable: cs_OX                Importance: 0.01\n",
      "Variable: num_p                Importance: 0.0\n",
      "Variable: num_f                Importance: 0.0\n"
     ]
    }
   ],
   "source": [
    "# Get numerical feature importances\n",
    "importances = list(rf.feature_importances_)\n",
    "\n",
    "# List of tuples with variable and importance\n",
    "feature_importances = [(feature, round(importance, 2)) for feature, importance in zip(feature_list, importances)]\n",
    "\n",
    "# Sort the feature importances by most important first\n",
    "feature_importances = sorted(feature_importances, key = lambda x: x[1], reverse = True)\n",
    "\n",
    "# Print out the feature and importances \n",
    "[print('Variable: {:20} Importance: {}'.format(*pair)) for pair in feature_importances[:40]];"
   ]
  },
  {
   "cell_type": "code",
   "execution_count": 15,
   "metadata": {},
   "outputs": [
    {
     "data": {
      "image/png": "[encoded data removed]",
      "text/plain": [
       "<Figure size 432x288 with 1 Axes>"
      ]
     },
     "metadata": {
      "needs_background": "light"
     },
     "output_type": "display_data"
    }
   ],
   "source": [
    "import matplotlib.pyplot as plt\n",
    "\n",
    "x = test_labels\n",
    "y=predictions\n",
    "y2=(test_labels * slope + intercept)\n",
    "plt.scatter(x,y, color='c', label=\"data\")\n",
    "plt.plot(x,y2, color='b', label=\"fitted line\")\n",
    "\n",
    "plt.xlabel(\"True magnetic moment\")\n",
    "plt.ylabel(\"Predicted\")\n",
    "\n",
    "\n",
    "lab = \"r^2=%.3f \" % (r_value ** 2)\n",
    "\n",
    "plt.plot([], [], ' ', label=lab )\n",
    "\n",
    "plt.legend()\n",
    "plt.show()"
   ]
  },
  {
   "cell_type": "code",
   "execution_count": null,
   "metadata": {},
   "outputs": [],
   "source": []
  }
 ],
 "metadata": {
  "kernelspec": {
   "display_name": "Python 3",
   "language": "python",
   "name": "python3"
  },
  "language_info": {
   "codemirror_mode": {
    "name": "ipython",
    "version": 3
   },
   "file_extension": ".py",
   "mimetype": "text/x-python",
   "name": "python",
   "nbconvert_exporter": "python",
   "pygments_lexer": "ipython3",
   "version": "3.8.3"
  }
 },
 "nbformat": 4,
 "nbformat_minor": 4
}
