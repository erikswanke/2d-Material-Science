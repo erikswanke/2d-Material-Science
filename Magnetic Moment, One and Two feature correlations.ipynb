{
 "cells": [
  {
   "cell_type": "markdown",
   "metadata": {},
   "source": [
    "Below I will find all single descriptor correlations compared with magnetic moment. Later I will do formation energy and magnetic order"
   ]
  },
  {
   "cell_type": "code",
   "execution_count": 33,
   "metadata": {},
   "outputs": [
    {
     "name": "stdout",
     "output_type": "stream",
     "text": [
      "83\n",
      "(-0.526802626739148, 'cmpd_skew_d')\n",
      "(-0.47488886219317056, 'nvalence_sum_dif')\n",
      "(-0.46083571544026425, 'nvalence_std')\n",
      "(-0.3776550699542548, 'energy')\n",
      "(-0.3148644214423298, 'cmpd_sigma_d')\n",
      "(-0.22004514834445335, 'nvalence_avg')\n",
      "(-0.2179846337180119, 'dipole_max_dif')\n",
      "(-0.1927100571616077, 'e_affinity_avg')\n",
      "(-0.18051667014361517, 'sum_ion')\n",
      "(-0.16874958407708204, 'std_ion')\n",
      "(-0.16587584340846845, 'dipole_std')\n",
      "(-0.13360638966698632, 'dipole_std_dif')\n",
      "(-0.1304754767796096, 'atomic_vol_avg')\n",
      "(-0.12884190809760365, 'atomic_vol_max_dif')\n",
      "(-0.12364673448250203, 'dipole_sum_dif')\n",
      "(-0.11595415178001539, 'covalentrad_sum_dif')\n",
      "(-0.11531046758710556, 'covalentrad_std')\n",
      "(-0.09252166900821253, 'eaffinity_sum_dif')\n",
      "(-0.0900076483532925, 'e_affinity_max_dif')\n",
      "(-0.08785794503009858, 'atomic_rad_avg')\n",
      "(-0.07991429735514885, 'mean_ion')\n",
      "(-0.06829342013853061, 'e_negativity_std_dif')\n",
      "(-0.06829342013853061, 'vdwradius_std_dif')\n",
      "(-0.06571987956949245, 'numelectron_std_dif')\n",
      "(-0.06326356123549648, 'atomic_rad_sum_dif')\n",
      "(-0.060727410633217266, 'cs_PE')\n",
      "(-0.05908207483244129, 'atomic_rad_std')\n",
      "(-0.049452774969540966, 'atomic_vol_std_dif')\n",
      "(-0.029325406340601507, 'cs_IR')\n",
      "(-0.029054130888037186, 'numelectron_std')\n",
      "(-0.02434287080374025, 'numelectron_sum_dif')\n",
      "(-0.01890444273586828, 'cs_AR')\n",
      "(-0.018884926009093493, 'atomic_rad_std_dif')\n",
      "(-0.0032430989950175, 'numelectron_avg')\n",
      "(0.003264958911459014, 'covalentrad_std_dif')\n",
      "(0.00622361067356205, 'e_negativity_sum_dif')\n",
      "(0.00622361067356205, 'vdwradius_sum_dif')\n",
      "(0.007129369785216198, 'hardness_var')\n",
      "(0.009333727642333103, 'cs_bob')\n",
      "(0.009443969609594358, 'e_negativity_std')\n",
      "(0.009443969609594358, 'vdwradius_std')\n",
      "(0.017400724497279398, 'hardness_mean')\n",
      "(0.01788881300108592, 'eaffinity_std')\n",
      "(0.021296712052260112, 'e_negativity_avg')\n",
      "(0.021296712052260112, 'vdwradius_avg')\n",
      "(0.02222657794198039, 'covalentrad_avg')\n",
      "(0.037473893679558785, 'dipole_avg')\n",
      "(0.06134884011074498, 'atomic_vol_std')\n",
      "(0.06587003802829004, 'Nup_var')\n",
      "(0.08564866662018432, 'atomic_vol_sum_dif')\n",
      "(0.09711012443913451, 'cs_OX')\n",
      "(0.11915268939272788, 'cmpd_skew_p')\n",
      "(0.11915268939272791, 'cmpd_sigma_p')\n",
      "(0.11945168951851666, 'Born')\n",
      "(0.1762835024443765, 'eaffinity_std_dif')\n",
      "(0.26319165969928254, 'nvalence_std_dif')\n",
      "(0.3392476729511021, 'formation_energy')\n",
      "(0.5487285672032604, 'Nup_mean')\n",
      "(1.0, 'magnetic_moment')\n"
     ]
    }
   ],
   "source": [
    "import pandas as pd\n",
    "import csv\n",
    "from pandas import read_csv\n",
    "import matplotlib.pyplot as plt\n",
    "\n",
    "df = pd.read_csv('magneticmoment_Ef_data.csv', header=0)  \n",
    "\n",
    "\n",
    "y_axis = \"magnetic_moment\"\n",
    "\n",
    "#0 minimum, 226 maximum\n",
    "begindex = 0  # start index of slice that will be plotted\n",
    "endex    = 1 # end index of slice that will be plotted\n",
    "t=0\n",
    "\n",
    "print(len(df.columns))\n",
    "\n",
    "corrs = []\n",
    "for i in range(begindex, endex):\n",
    "    for j in range(len(df.columns)):\n",
    "        #print(type(df.iloc[j]))\n",
    "        if(isinstance(df.iloc[i][j], float) or isinstance(df.iloc[i][j], int)):\n",
    "            tmp_corr = df.iloc[:,j].corr(df[y_axis])\n",
    "            colname = df.columns[j]\n",
    "            #print(colname)\n",
    "            corrs.append((tmp_corr, colname))\n",
    "            \n",
    "            \n",
    "            \n",
    "            \n",
    "sorted_corrs = sorted(corrs)\n",
    "\n",
    "for i in sorted_corrs:\n",
    "\n",
    "    print(i )\n"
   ]
  },
  {
   "cell_type": "code",
   "execution_count": null,
   "metadata": {},
   "outputs": [],
   "source": []
  }
 ],
 "metadata": {
  "kernelspec": {
   "display_name": "Python 3",
   "language": "python",
   "name": "python3"
  },
  "language_info": {
   "codemirror_mode": {
    "name": "ipython",
    "version": 3
   },
   "file_extension": ".py",
   "mimetype": "text/x-python",
   "name": "python",
   "nbconvert_exporter": "python",
   "pygments_lexer": "ipython3",
   "version": "3.8.3"
  }
 },
 "nbformat": 4,
 "nbformat_minor": 4
}
