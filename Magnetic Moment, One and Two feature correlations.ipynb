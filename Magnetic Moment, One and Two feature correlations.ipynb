{
 "cells": [
  {
   "cell_type": "markdown",
   "metadata": {},
   "source": [
    "Below I will find all single variable correlations compared with magnetic moment. Later I will do formation energy and magnetic order"
   ]
  },
  {
   "cell_type": "code",
   "execution_count": null,
   "metadata": {},
   "outputs": [],
   "source": [
    "import pandas as pd\n",
    "import csv\n",
    "from pandas import read_csv\n",
    "import matplotlib.pyplot as plt\n",
    "\n",
    "df = pd.read_csv('magneticmoment_Ef_data.csv', header=0)  \n",
    "\n",
    "\n",
    "y_axis = \"magnetic_moment\"\n",
    "\n",
    "#0 minimum, 226 maximum\n",
    "begindex = 0  # start index of slice that will be plotted\n",
    "endex    = 1 # end index of slice that will be plotted\n",
    "t=0\n",
    "\n",
    "print(len(df.columns))\n",
    "\n",
    "corrs = {}\n",
    "for i in range(begindex, endex):\n",
    "    for j in range(len(df.columns)):\n",
    "        #print(type(df.iloc[j]))\n",
    "        if(isinstance(df.iloc[i][j], float) or isinstance(df.iloc[i][j], int)):\n",
    "            tmp_corr = df.iloc[:,j].corr(df[y_axis])\n",
    "            colname = df.columns[j]\n",
    "            #print(colname)\n",
    "            corrs[colname] = tmp_corr\n",
    "\n",
    "for i in corrs:\n",
    "\n",
    "    print(i + \" correlation: \", corrs[i])\n"
   ]
  },
  {
   "cell_type": "code",
   "execution_count": null,
   "metadata": {},
   "outputs": [],
   "source": []
  }
 ],
 "metadata": {
  "kernelspec": {
   "display_name": "Python 3",
   "language": "python",
   "name": "python3"
  },
  "language_info": {
   "codemirror_mode": {
    "name": "ipython",
    "version": 3
   },
   "file_extension": ".py",
   "mimetype": "text/x-python",
   "name": "python",
   "nbconvert_exporter": "python",
   "pygments_lexer": "ipython3",
   "version": "3.8.3"
  }
 },
 "nbformat": 4,
 "nbformat_minor": 4
}
