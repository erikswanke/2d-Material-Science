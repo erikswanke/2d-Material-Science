{
 "cells": [
  {
   "cell_type": "markdown",
   "metadata": {},
   "source": [
    "Below I will find all single descriptor correlations compared with magnetic moment. Later I will do formation energy and magnetic order"
   ]
  },
  {
   "cell_type": "code",
   "execution_count": null,
   "metadata": {
    "scrolled": false
   },
   "outputs": [],
   "source": [
    "import pandas as pd\n",
    "import csv\n",
    "from pandas import read_csv\n",
    "import matplotlib.pyplot as plt\n",
    "import numpy as np\n",
    "df = pd.read_csv('magneticmoment_Ef_data.csv', header=0)  \n",
    "\n",
    "\n",
    "y_axis = \"magnetic_moment\"\n",
    "\n",
    "#0 minimum, 226 maximum\n",
    "begindex = 0  # start index of slice that will be plotted\n",
    "endex    = 1 # end index of slice that will be plotted\n",
    "t=0\n",
    "\n",
    "#print(df.iloc[:,3])\n",
    "\n",
    "corrs = []\n",
    "for i in range(begindex, endex):\n",
    "    for j in range(len(df.columns)):\n",
    "        if(isinstance(df.iloc[i][j], np.float64) or isinstance(df.iloc[i][j], np.int64)):\n",
    "            #print(print(type(df.iloc[i][j])))\n",
    "            tmp_corr = df.iloc[:,j].corr(df[y_axis])\n",
    "            \n",
    "            colname = df.columns[j]\n",
    "            #print(colname)\n",
    "            #if(tmp_corr.isnan)\n",
    "            corrs.append((colname, tmp_corr))\n",
    "            \n",
    "            \n",
    "            \n",
    "            \n",
    "# sorted_corrs = sorted(corrs)\n",
    "\n",
    "corrdf = pd.DataFrame.from_records(corrs[1:], columns=['feature', 'correlation'])\n",
    "\n",
    "\n",
    "\n",
    "\n",
    "pd.set_option('display.max_rows', None)\n",
    "pd.set_option('display.max_columns', None)\n",
    "pd.set_option('display.width', None)\n",
    "pd.set_option('display.max_colwidth', None)\n",
    "# display(corrdf)\n",
    "# pd.reset_option('all')\n",
    "\n",
    "corrdf.dropna()\n",
    "display(corrdf)\n",
    "\n"
   ]
  },
  {
   "cell_type": "code",
   "execution_count": null,
   "metadata": {
    "scrolled": true
   },
   "outputs": [],
   "source": [
    "\n",
    "features = [\"Nup_mean\", \"cs_bob\" ]\n",
    "\n",
    "feature2 = \"magnetic_moment\"\n",
    "begindex = 0  # start index of slice that will be plotted\n",
    "endex    = 226 # end index of slice that will be plotted, MAX IS 226\n",
    "\n",
    "for i in features:\n",
    "    ax1 = df.iloc[begindex:endex].plot.scatter(x=i, y=feature2, c='Blue')\n",
    "\n",
    "\n",
    "\n",
    "\n",
    "\n"
   ]
  },
  {
   "cell_type": "code",
   "execution_count": null,
   "metadata": {
    "scrolled": true
   },
   "outputs": [],
   "source": []
  }
 ],
 "metadata": {
  "kernelspec": {
   "display_name": "Python 3",
   "language": "python",
   "name": "python3"
  },
  "language_info": {
   "codemirror_mode": {
    "name": "ipython",
    "version": 3
   },
   "file_extension": ".py",
   "mimetype": "text/x-python",
   "name": "python",
   "nbconvert_exporter": "python",
   "pygments_lexer": "ipython3",
   "version": "3.8.3"
  }
 },
 "nbformat": 4,
 "nbformat_minor": 4
}
